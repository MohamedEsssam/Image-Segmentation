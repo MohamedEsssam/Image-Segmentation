{
 "cells": [
  {
   "cell_type": "code",
   "execution_count": 1,
   "metadata": {
    "collapsed": false
   },
   "outputs": [],
   "source": [
    "from PIL import Image\n",
    "import scipy.ndimage\n",
    "import numpy as np\n",
    "from sklearn.neighbors import KNeighborsClassifier\n",
    "from sklearn.metrics import accuracy_score\n",
    "from sklearn.neighbors import KDTree\n",
    "import matplotlib.pyplot as plt\n",
    "import glob\n",
    "import scipy.io\n",
    "%matplotlib inline"
   ]
  },
  {
   "cell_type": "markdown",
   "metadata": {},
   "source": [
    "## 2. Visualize the image and the ground truth segmentation"
   ]
  },
  {
   "cell_type": "code",
   "execution_count": 9,
   "metadata": {
    "collapsed": false
   },
   "outputs": [],
   "source": [
    "#read a single ground truth file for a specific image\n",
    "mat = scipy.io.loadmat('E:/TERM/TERM8/Pattern Recognition/Assignments/Assignment2/BSR/BSDS500/data/groundTruth/train/388016.mat')"
   ]
  },
  {
   "cell_type": "code",
   "execution_count": 157,
   "metadata": {
    "collapsed": false
   },
   "outputs": [
    {
     "data": {
      "text/plain": [
       "<matplotlib.image.AxesImage at 0xd357588>"
      ]
     },
     "execution_count": 157,
     "metadata": {},
     "output_type": "execute_result"
    },
    {
     "data": {
      "image/png": "[encoded data removed]",
      "text/plain": [
       "<matplotlib.figure.Figure at 0xc2ab668>"
      ]
     },
     "metadata": {},
     "output_type": "display_data"
    }
   ],
   "source": [
    "plt.imshow(mat['groundTruth'][0][1][0][0][0])"
   ]
  },
  {
   "cell_type": "code",
   "execution_count": 15,
   "metadata": {
    "collapsed": false
   },
   "outputs": [],
   "source": [
    "#print(mat['groundTruth'][0][1][0][0][0])"
   ]
  },
  {
   "cell_type": "markdown",
   "metadata": {},
   "source": [
    "## Reading the training set"
   ]
  },
  {
   "cell_type": "code",
   "execution_count": 2,
   "metadata": {
    "collapsed": false
   },
   "outputs": [
    {
     "name": "stdout",
     "output_type": "stream",
     "text": [
      "[[101 119  97]\n",
      " [107 122 101]\n",
      " [109 122 102]\n",
      " ...\n",
      " [ 41  72  28]\n",
      " [ 48  75  34]\n",
      " [ 55  81  36]]\n"
     ]
    }
   ],
   "source": [
    "data_set = []\n",
    "for filename in glob.glob('E:/TERM/TERM8/Pattern Recognition/Assignments/Assignment2/BSR/BSDS500/data/images/train/*.jpg'):\n",
    "    image=Image.open(filename)\n",
    "    #pix = im.load()\n",
    "    #print(pix[480, 320])\n",
    "    #plt.imshow(im)\n",
    "    #plt.show()\n",
    "    \n",
    "    image_pixels_vector = np.asarray(image).reshape(-1)\n",
    "    data_set.append(image_pixels_vector)\n",
    "    \n",
    "    #print(im)\n",
    "    #print(len(im))\n",
    "\n",
    "data_set = np.array(data_set)\n",
    "#print(len(data_set))\n",
    "data_set = data_set.reshape((154401 * len(data_set), 3))\n",
    "print(data_set)\n",
    "\n",
    "data_set = np.unique(data_set, axis=0)"
   ]
  },
  {
   "cell_type": "code",
   "execution_count": 3,
   "metadata": {
    "collapsed": false
   },
   "outputs": [
    {
     "name": "stdout",
     "output_type": "stream",
     "text": [
      "1260703\n",
      "[[  0   0   0]\n",
      " [  0   0   2]\n",
      " [  0   0   4]\n",
      " ...\n",
      " [255 255 251]\n",
      " [255 255 253]\n",
      " [255 255 255]]\n"
     ]
    }
   ],
   "source": [
    "print(len(data_set))\n",
    "print(data_set)\n",
    "#print(data_set[1])\n",
    "#print(data_set[2])"
   ]
  },
  {
   "cell_type": "markdown",
   "metadata": {},
   "source": [
    "## Segmentation using K-means"
   ]
  },
  {
   "cell_type": "code",
   "execution_count": 6,
   "metadata": {
    "collapsed": false
   },
   "outputs": [],
   "source": [
    "def k_means(k, data_set):\n",
    "    \n",
    "    centroids_difference = 10000 \n",
    "    \n",
    "    new_centroids = []\n",
    "    for i in range(k):\n",
    "        #new_centroids.append(np.random.randint(150, size=3))\n",
    "        new_centroids.append(data_set[i])\n",
    "        \n",
    "        print(new_centroids)\n",
    "        \n",
    "    while(centroids_difference > 0.001):\n",
    "        clusters = [[] for i in range(k)]\n",
    "        \n",
    "        for i in range(len(data_set)):\n",
    "            distances_from_centroids = []\n",
    "            for j in range(k):\n",
    "                distances_from_centroids.append(np.linalg.norm(new_centroids[j] - data_set[i]))\n",
    "                #print(np.linalg.norm(new_centroids[j] - data_set[i]))\n",
    "        \n",
    "            cluster_index = distances_from_centroids.index(min(distances_from_centroids))\n",
    "            clusters[cluster_index].append(data_set[i])\n",
    "            \n",
    "            \n",
    "        old_centroids = new_centroids[:]\n",
    "        for i in range(k):\n",
    "            new_centroids[i] = np.mean(clusters[i] , axis=0)\n",
    "          \n",
    "        \n",
    "        centroids_difference = 0\n",
    "        for i in range(k):\n",
    "            if(len(new_centroids[i]) == 0):\n",
    "                new_centroids[i] = [0] * len(data_set[0])\n",
    "            centroids_difference += np.abs(np.linalg.norm(old_centroids[i]) - np.linalg.norm(new_centroids[i]))\n",
    "        \n",
    "        print(centroids_difference)\n",
    "        \n",
    "        print('lol')\n",
    "       \n",
    "    return clusters, new_centroids"
   ]
  },
  {
   "cell_type": "code",
   "execution_count": 7,
   "metadata": {
    "collapsed": false
   },
   "outputs": [
    {
     "name": "stdout",
     "output_type": "stream",
     "text": [
      "[array([0, 0, 0], dtype=uint8)]\n",
      "[array([0, 0, 0], dtype=uint8), array([0, 0, 2], dtype=uint8)]\n",
      "[array([0, 0, 0], dtype=uint8), array([0, 0, 2], dtype=uint8), array([0, 0, 4], dtype=uint8)]\n",
      "513.524735444308\n",
      "lol\n",
      "89.79257275142947\n",
      "lol\n",
      "51.84729087032959\n",
      "lol\n",
      "28.710124029752578\n",
      "lol\n",
      "17.103115531680558\n",
      "lol\n",
      "10.769767386424832\n",
      "lol\n",
      "7.186366334901109\n",
      "lol\n",
      "5.1757305757347325\n",
      "lol\n",
      "3.9892764371400347\n",
      "lol\n",
      "3.2081858331942215\n",
      "lol\n",
      "2.6535147630349343\n",
      "lol\n",
      "2.218243203388994\n",
      "lol\n",
      "1.8382033058798726\n",
      "lol\n",
      "1.5187466151377151\n",
      "lol\n",
      "1.258954639448291\n",
      "lol\n",
      "1.039371400443443\n",
      "lol\n",
      "0.8568988176795784\n",
      "lol\n",
      "0.7048670856656543\n",
      "lol\n",
      "0.5971950473628453\n",
      "lol\n",
      "0.4738911965655461\n",
      "lol\n",
      "0.3931548525901718\n",
      "lol\n",
      "0.3158588211317408\n",
      "lol\n",
      "0.2650911232055506\n",
      "lol\n",
      "0.20842051428404318\n",
      "lol\n",
      "0.16571832599538538\n",
      "lol\n",
      "0.1365921359151514\n",
      "lol\n",
      "0.11048789495372091\n",
      "lol\n",
      "0.0994950784997144\n",
      "lol\n",
      "0.08333729797135447\n",
      "lol\n",
      "0.06581250689914953\n",
      "lol\n",
      "0.05215017461318894\n",
      "lol\n",
      "0.038781672673550815\n",
      "lol\n",
      "0.032938779891040326\n",
      "lol\n",
      "0.030266318799164083\n",
      "lol\n",
      "0.024364874404000147\n",
      "lol\n",
      "0.024259470147114826\n",
      "lol\n",
      "0.015056630366373724\n",
      "lol\n",
      "0.011790768828475962\n",
      "lol\n",
      "0.011755401833156043\n",
      "lol\n",
      "0.00738089321254165\n",
      "lol\n",
      "0.006012494133784685\n",
      "lol\n",
      "0.0065224881213623576\n",
      "lol\n",
      "0.006074589587584001\n",
      "lol\n",
      "0.004581816116456139\n",
      "lol\n",
      "0.004874721479083632\n",
      "lol\n",
      "0.004778098429881084\n",
      "lol\n",
      "0.003908547389372075\n",
      "lol\n",
      "0.002979417612039015\n",
      "lol\n",
      "0.0007884343013131456\n",
      "lol\n"
     ]
    }
   ],
   "source": [
    "#clusters_number = [3,5,7,9,11]\n",
    "#for k in clusters_number:\n",
    "clusters, cluster_color = k_means(3, data_set)"
   ]
  },
  {
   "cell_type": "code",
   "execution_count": 14,
   "metadata": {
    "collapsed": false
   },
   "outputs": [
    {
     "name": "stdout",
     "output_type": "stream",
     "text": [
      "414777\n",
      "404009\n",
      "441917\n"
     ]
    }
   ],
   "source": [
    "for i in range(3):\n",
    "    print(len(clusters[i]))"
   ]
  },
  {
   "cell_type": "code",
   "execution_count": 23,
   "metadata": {
    "collapsed": false
   },
   "outputs": [],
   "source": [
    "pixil_color_map = {}\n",
    "for i in range(len(clusters)):\n",
    "    for point in clusters[i]:\n",
    "        pixil_color_map.update({str(point) : cluster_color[i]})"
   ]
  },
  {
   "cell_type": "code",
   "execution_count": 25,
   "metadata": {
    "collapsed": false
   },
   "outputs": [],
   "source": [
    "image_RGB_pixels = data_set[0:][0:]\n",
    "image_pixels = []\n",
    "for i in range(len(image_RGB_pixels)):\n",
    "    RGB = pixil_color_map.get(str(image_RGB_pixels[i]))\n",
    "    image_pixels.append(RGB[0] * 256**2 + RGB[1]*256 + RGB[2])"
   ]
  },
  {
   "cell_type": "code",
   "execution_count": 27,
   "metadata": {
    "collapsed": false
   },
   "outputs": [
    {
     "data": {
      "text/plain": [
       "<matplotlib.image.AxesImage at 0xb6cd860>"
      ]
     },
     "execution_count": 27,
     "metadata": {},
     "output_type": "execute_result"
    },
    {
     "data": {
      "image/png": "[encoded data removed]",
      "text/plain": [
       "<matplotlib.figure.Figure at 0x8be4b38>"
      ]
     },
     "metadata": {},
     "output_type": "display_data"
    }
   ],
   "source": [
    "cluster_color_image = (np.array(image_pixels)).reshape((481, 321))\n",
    "plt.imshow(cluster_color_image)"
   ]
  },
  {
   "cell_type": "markdown",
   "metadata": {},
   "source": [
    "## Creating the partitioning & clustering"
   ]
  },
  {
   "cell_type": "code",
   "execution_count": 208,
   "metadata": {
    "collapsed": true
   },
   "outputs": [],
   "source": [
    "def partitioning(ground_truth):\n",
    "    ground_truth = ground_truth.reshape(-1)\n",
    "    unique_values = list(set(ground_truth))\n",
    "    \n",
    "    partitioning_num = len(unique_values)\n",
    "    partitioning = [[] for i in range(partitioning_num)]\n",
    "    \n",
    "    uniqueValue_partitioningIndex_map = {}\n",
    "   \n",
    "    for i in range(partitioning_num):\n",
    "        uniqueValue_partitioningIndex_map.update({str(unique_values[i]) : i})\n",
    "        \n",
    "        \n",
    "    for i in range(len(ground_truth)):\n",
    "        partition_index = uniqueValue_partitioningIndex_map.get(str(ground_truth[i]))\n",
    "        partitioning[partition_index].append(i)\n",
    "        \n",
    "    return partitioning"
   ]
  },
  {
   "cell_type": "code",
   "execution_count": 209,
   "metadata": {
    "collapsed": false
   },
   "outputs": [],
   "source": [
    "partitioning = partitioning(mat['groundTruth'][0][1][0][0][0])"
   ]
  },
  {
   "cell_type": "markdown",
   "metadata": {
    "collapsed": false
   },
   "source": [
    "## Conditional Entropy Measure"
   ]
  },
  {
   "cell_type": "code",
   "execution_count": 214,
   "metadata": {
    "collapsed": true
   },
   "outputs": [],
   "source": [
    "def conditional_entropy_measure(partitioning, clustering):\n",
    "    \n",
    "    contingency_table = create_contingency_table(partitioning, pixel_clusters)\n",
    "    \n",
    "    conditional_entropy = 0\n",
    "    \n",
    "    for i in range(len(contingency_table[:,0])):\n",
    "        for j in range(len(contingency_table[0])):\n",
    "            if(contingency_table[i][j] != 0):\n",
    "                conditional_entropy += (contingency_table[i][j] / 154401.0) * np.log10(contingency_table[i][j] / len(clustering[i]))\n",
    "            #print(len(clustering[i]))\n",
    "            #print(np.log10(contingency_table[i][j] / len(clustering[i])))\n",
    "            \n",
    "    conditional_entropy *= -1\n",
    "    \n",
    "    return conditional_entropy"
   ]
  },
  {
   "cell_type": "code",
   "execution_count": 211,
   "metadata": {
    "collapsed": true
   },
   "outputs": [],
   "source": [
    "def create_contingency_table(partitioning, clustering):\n",
    "    contingency_table = np.zeros((len(clustering), len(partitioning)))\n",
    "    \n",
    "    for i in range(len(clustering)):\n",
    "        for j in range(len(clustering[i])):\n",
    "            for k in range(len(partitioning)):\n",
    "                if(clustering[i][j] in partitioning[k]):\n",
    "                    contingency_table[i][k] += 1\n",
    "                    break\n",
    "    #print(contingency_table)\n",
    "    return contingency_table"
   ]
  },
  {
   "cell_type": "code",
   "execution_count": 215,
   "metadata": {
    "collapsed": false
   },
   "outputs": [
    {
     "data": {
      "text/plain": [
       "0.24715354363673919"
      ]
     },
     "execution_count": 215,
     "metadata": {},
     "output_type": "execute_result"
    }
   ],
   "source": [
    "#write a more general function to get the clustering of an image and choose it ground truth\n",
    "#the function first will get the data of the image as a single nubmer of a pixel\n",
    "#loop to get the clusters of each pixel, so each cluster will contains the index of pixels that are at the same cluster\n",
    "#that will be the clustering of that image\n",
    "#the partitioning is the same way for the grround truth matrix (the problem is how to get the ground truth image ??!!)\n",
    "\n",
    "conditional_entropy_measure(partitioning, pixel_clusters)"
   ]
  },
  {
   "cell_type": "markdown",
   "metadata": {},
   "source": [
    "## Segmentation using Normalized Cut"
   ]
  },
  {
   "cell_type": "code",
   "execution_count": 5,
   "metadata": {
    "collapsed": true
   },
   "outputs": [],
   "source": [
    "def spectral_clustring_kNN_similarity(k, KNN_similarity_matrix, data_set):\n",
    "    \n",
    "    degree_list = []\n",
    "    \n",
    "    for i in range(len(data_set)):\n",
    "        degree_list.append(sum(KNN_similarity_matrix[i]))\n",
    "        \n",
    "    #print(degree_list)\n",
    "    degree_matrix = np.diag(degree_list)\n",
    "        \n",
    "        \n",
    "        \n",
    "    laplacian_matrix = degree_matrix - KNN_similarity_matrix\n",
    "    \n",
    "    degree_matrix_inverse = np.linalg.inv(degree_matrix)\n",
    "    \n",
    "    normalized_asymmetric_laplacian_matrix = np.matmul(degree_matrix_inverse, laplacian_matrix)\n",
    "    \n",
    "    eigenvalues, eigenvectors = np.linalg.eigh(normalized_asymmetric_laplacian_matrix)\n",
    "    \n",
    "    #print(eigenvalues)\n",
    "    \n",
    "    U_matrix = eigenvectors[:,:k]\n",
    "    \n",
    "    \n",
    "    Y_matrix = [0] * k\n",
    "    for i in range(len(data_matrix)):\n",
    "        Y_matrix = np.vstack([Y_matrix, (U_matrix[i] / np.linalg.norm(U_matrix[i]))])\n",
    "    Y_matrix = Y_matrix[1: , 0:]\n",
    "        \n",
    "    return Y_matrix\n",
    "    #fig = plt.figure()\n",
    "    #ax = fig.add_subplot(111,projection='3d')\n",
    "    #ax.scatter(Y_matrix[:,0], Y_matrix[:,1], Y_matrix[:,2])"
   ]
  },
  {
   "cell_type": "code",
   "execution_count": 6,
   "metadata": {
    "collapsed": true
   },
   "outputs": [],
   "source": [
    "def KNN_similarity(knn, data_set):\n",
    "    tree = KDTree(data_set, leaf_size=10)\n",
    "    dist, KNNindexs = tree.query(data_set, k=knn)\n",
    "    KNN_similarity_matrix = []\n",
    "    for i in range(len(KNNindexs)):\n",
    "        fiveNN_similarity_vector = [0] * len(data_set[:,0])\n",
    "        for j in range(knn):\n",
    "            fiveNN_similarity_vector[j] = 1\n",
    "            \n",
    "        KNN_similarity_matrix.append(fiveNN_similarity_vector)\n",
    "            \n",
    "    return KNN_similarity_matrix"
   ]
  },
  {
   "cell_type": "code",
   "execution_count": null,
   "metadata": {
    "collapsed": true
   },
   "outputs": [],
   "source": [
    "KNN_similarity_matrix = KNN_similarity(5, data_set)"
   ]
  },
  {
   "cell_type": "code",
   "execution_count": null,
   "metadata": {
    "collapsed": false
   },
   "outputs": [],
   "source": [
    "Y_matrix = spectral_clustring_kNN_similarity(5, KNN_similarity_matrix, data_set)"
   ]
  },
  {
   "cell_type": "code",
   "execution_count": null,
   "metadata": {
    "collapsed": true
   },
   "outputs": [],
   "source": []
  }
 ],
 "metadata": {
  "kernelspec": {
   "display_name": "Python 2",
   "language": "python",
   "name": "python2"
  },
  "language_info": {
   "codemirror_mode": {
    "name": "ipython",
    "version": 2
   },
   "file_extension": ".py",
   "mimetype": "text/x-python",
   "name": "python",
   "nbconvert_exporter": "python",
   "pygments_lexer": "ipython2",
   "version": "2.7.13"
  }
 },
 "nbformat": 4,
 "nbformat_minor": 0
}
